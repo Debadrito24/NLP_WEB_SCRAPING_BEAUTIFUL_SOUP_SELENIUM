{
 "cells": [
  {
   "cell_type": "code",
   "execution_count": 244,
   "metadata": {},
   "outputs": [],
   "source": [
    "from selenium.webdriver import Chrome\n",
    "import time"
   ]
  },
  {
   "cell_type": "code",
   "execution_count": 245,
   "metadata": {},
   "outputs": [],
   "source": [
    "# !conda install -c conda-forge selenium"
   ]
  },
  {
   "cell_type": "code",
   "execution_count": 246,
   "metadata": {},
   "outputs": [],
   "source": [
    "browser = Chrome(executable_path='C:/Users/DEBADRITO/Desktop/Term 3/TEXT ANALYTICS/chromedriver.exe') # Make sure that the geckodriver (or chromedriver for Google Chrome) is available in your system"
   ]
  },
  {
   "cell_type": "code",
   "execution_count": 247,
   "metadata": {},
   "outputs": [],
   "source": [
    "browser.get('https://www.makaan.com/kolkata/kolkata-south-property-10038?page=1')"
   ]
  },
  {
   "cell_type": "code",
   "execution_count": 248,
   "metadata": {},
   "outputs": [
    {
     "data": {
      "text/plain": [
       "20"
      ]
     },
     "execution_count": 248,
     "metadata": {},
     "output_type": "execute_result"
    }
   ],
   "source": [
    "len(containers)"
   ]
  },
  {
   "cell_type": "code",
   "execution_count": 249,
   "metadata": {},
   "outputs": [],
   "source": [
    "from bs4 import BeautifulSoup"
   ]
  },
  {
   "cell_type": "code",
   "execution_count": 250,
   "metadata": {},
   "outputs": [],
   "source": [
    "containers_1 = [x.get_attribute('innerHTML') for x in browser.find_elements_by_xpath(\"//div[@class='title-line-wrap']\")]\n",
    "BHK = {'BHK' : []}\n",
    "\n",
    "for container in containers_1:\n",
    "    doc = BeautifulSoup(container)\n",
    "    \n",
    "    try:\n",
    "        bhk = int(doc.find('span', attrs={'class':'val'}).text)\n",
    "    \n",
    "    except:\n",
    "        bhk = None\n",
    "        \n",
    "    BHK['BHK'].append(bhk)"
   ]
  },
  {
   "cell_type": "code",
   "execution_count": 251,
   "metadata": {},
   "outputs": [
    {
     "data": {
      "text/plain": [
       "{'BHK': [4, 2, 4, 3, 2, 2, 3, 3, 5, 2, 2, 3, 2, 2, 2, 3, 2, 8, 2, None]}"
      ]
     },
     "execution_count": 251,
     "metadata": {},
     "output_type": "execute_result"
    }
   ],
   "source": [
    "BHK"
   ]
  },
  {
   "cell_type": "code",
   "execution_count": 252,
   "metadata": {},
   "outputs": [],
   "source": [
    "containers_2 = [x.get_attribute('innerHTML') for x in browser.find_elements_by_xpath(\"//a[@class='loclink']\")]\n",
    "                 \n",
    "LOCATION = {'Location' : []}\n",
    "    \n",
    "for container in containers_2:\n",
    "    doc = BeautifulSoup(container)\n",
    "    \n",
    "    try:\n",
    "        loc = doc.find('span', attrs={'itemprop':'addressLocality'}).text\n",
    "    \n",
    "    except:\n",
    "        loc = None\n",
    "        \n",
    "    LOCATION['Location'].append(loc)                 \n",
    "                 "
   ]
  },
  {
   "cell_type": "code",
   "execution_count": 253,
   "metadata": {},
   "outputs": [
    {
     "data": {
      "text/plain": [
       "{'Location': ['Sonarpur',\n",
       "  'Joka',\n",
       "  'Tollygunge',\n",
       "  'Narendrapur',\n",
       "  'Garia',\n",
       "  'Sonarpur',\n",
       "  'Sonarpur',\n",
       "  'Behala',\n",
       "  'Nimta',\n",
       "  'Baghajatin',\n",
       "  'Santoshpur',\n",
       "  'Garia',\n",
       "  'Regent Park',\n",
       "  'Haltu',\n",
       "  'Bata Nagar',\n",
       "  'Narendrapur',\n",
       "  'Maheshtala',\n",
       "  'Ballygunge',\n",
       "  'Ballygunge',\n",
       "  'Golf Green']}"
      ]
     },
     "execution_count": 253,
     "metadata": {},
     "output_type": "execute_result"
    }
   ],
   "source": [
    "LOCATION"
   ]
  },
  {
   "cell_type": "code",
   "execution_count": 254,
   "metadata": {},
   "outputs": [],
   "source": [
    "containers_3 = [x.get_attribute('innerHTML') for x in browser.find_elements_by_xpath(\"//td[@class='price']\")]\n",
    "PRICE = {'PRICE' : []}                 \n",
    "for container in containers_3:\n",
    "    doc = BeautifulSoup(container)\n",
    "    \n",
    "    try:\n",
    "        price = float(doc.find('span', attrs={'class':'val'}).text)\n",
    "    \n",
    "    except:\n",
    "        price = None\n",
    "        \n",
    "    PRICE['PRICE'].append(price)                 \n",
    "                 "
   ]
  },
  {
   "cell_type": "code",
   "execution_count": 255,
   "metadata": {},
   "outputs": [
    {
     "data": {
      "text/plain": [
       "{'PRICE': [95.0,\n",
       "  55.0,\n",
       "  1.82,\n",
       "  42.76,\n",
       "  70.58,\n",
       "  31.78,\n",
       "  54.14,\n",
       "  58.31,\n",
       "  70.0,\n",
       "  19.0,\n",
       "  55.0,\n",
       "  40.0,\n",
       "  21.0,\n",
       "  46.0,\n",
       "  26.0,\n",
       "  43.0,\n",
       "  28.0,\n",
       "  5.0,\n",
       "  65.0,\n",
       "  96.0]}"
      ]
     },
     "execution_count": 255,
     "metadata": {},
     "output_type": "execute_result"
    }
   ],
   "source": [
    "PRICE"
   ]
  },
  {
   "cell_type": "code",
   "execution_count": 256,
   "metadata": {},
   "outputs": [],
   "source": [
    "containers_4 = [x.get_attribute('innerHTML') for x in browser.find_elements_by_xpath(\"//td[@class='price']\")]\n",
    "PRICE_UNIT = {'PRICE_UNIT' : []}                 \n",
    "for container in containers_4:\n",
    "    doc = BeautifulSoup(container)\n",
    "    \n",
    "    try:\n",
    "        price_unit = doc.find('span', attrs={'class':'unit'}).text\n",
    "    \n",
    "    except:\n",
    "        price_unit = None\n",
    "        \n",
    "    PRICE_UNIT['PRICE_UNIT'].append(price_unit)  "
   ]
  },
  {
   "cell_type": "code",
   "execution_count": 257,
   "metadata": {},
   "outputs": [
    {
     "data": {
      "text/plain": [
       "{'PRICE_UNIT': [' L',\n",
       "  ' L',\n",
       "  ' Cr',\n",
       "  ' L',\n",
       "  ' L',\n",
       "  ' L',\n",
       "  ' L',\n",
       "  ' L',\n",
       "  ' L',\n",
       "  ' L',\n",
       "  ' L',\n",
       "  ' L',\n",
       "  ' L',\n",
       "  ' L',\n",
       "  ' L',\n",
       "  ' L',\n",
       "  ' L',\n",
       "  ' Cr',\n",
       "  ' L',\n",
       "  ' L']}"
      ]
     },
     "execution_count": 257,
     "metadata": {},
     "output_type": "execute_result"
    }
   ],
   "source": [
    "PRICE_UNIT"
   ]
  },
  {
   "cell_type": "code",
   "execution_count": 292,
   "metadata": {},
   "outputs": [],
   "source": [
    "def parse(full_url):\n",
    "##########################################################################################################################    \n",
    "    containers_1 = [x.get_attribute('innerHTML') for x in browser.find_elements_by_xpath(\"//div[@class='title-line-wrap']\")]\n",
    "    BHK = []\n",
    "\n",
    "    for container in containers_1:\n",
    "        doc = BeautifulSoup(container)\n",
    "    \n",
    "        try:\n",
    "            bhk = int(doc.find('span', attrs={'class':'val'}).text)\n",
    "    \n",
    "        except:\n",
    "            bhk = None\n",
    "        \n",
    "        BHK.append(bhk)\n",
    "\n",
    "#########################################################################################################################    \n",
    "    containers_2 = [x.get_attribute('innerHTML') for x in browser.find_elements_by_xpath(\"//a[@class='loclink']\")]\n",
    "                 \n",
    "    LOCATION = []\n",
    "    \n",
    "    for container in containers_2:\n",
    "            doc = BeautifulSoup(container)\n",
    "    \n",
    "            try:\n",
    "                 loc = doc.find('span', attrs={'itemprop':'addressLocality'}).text\n",
    "    \n",
    "            except:\n",
    "                 loc = None\n",
    "        \n",
    "            LOCATION.append(loc)\n",
    "\n",
    "########################################################################################################################    \n",
    "    containers_3 = [x.get_attribute('innerHTML') for x in browser.find_elements_by_xpath(\"//td[@class='price']\")]\n",
    "\n",
    "    PRICE = []    \n",
    "\n",
    "    for container in containers_3:\n",
    "            doc = BeautifulSoup(container)\n",
    "    \n",
    "            try:\n",
    "                  price = float(doc.find('span', attrs={'class':'val'}).text)\n",
    "    \n",
    "            except:\n",
    "                  price = None\n",
    "        \n",
    "            PRICE.append(price)  \n",
    "\n",
    "##########################################################################################################################                 \n",
    "        \n",
    "    containers_4 = [x.get_attribute('innerHTML') for x in browser.find_elements_by_xpath(\"//td[@class='price']\")]\n",
    "\n",
    "    PRICE_UNIT = []\n",
    "\n",
    "    for container in containers_4:\n",
    "            doc = BeautifulSoup(container)\n",
    "    \n",
    "            try:\n",
    "                price_unit = doc.find('span', attrs={'class':'unit'}).text\n",
    "    \n",
    "            except:\n",
    "                price_unit = None\n",
    "        \n",
    "            PRICE_UNIT.append(price_unit)  \n",
    "\n",
    "    df = pd.DataFrame({'BHK' : BHK,\n",
    "                                'LOCATION' : LOCATION,\n",
    "                                'PRICE' : PRICE,\n",
    "                            'PRICE_UNIT' : PRICE_UNIT })\n",
    "    return df   \n"
   ]
  },
  {
   "cell_type": "code",
   "execution_count": 297,
   "metadata": {},
   "outputs": [],
   "source": [
    "base_url = 'https://www.makaan.com/kolkata/kolkata-south-property-10038?page='\n",
    "\n",
    "\n",
    "\n",
    "Real_Estate_Property_Information =pd.DataFrame({'BHK' : BHK,\n",
    "                                'LOCATION' : LOCATION,\n",
    "                                'PRICE' : PRICE,\n",
    "                            'PRICE_UNIT' : PRICE_UNIT })\n",
    "\n",
    "\n",
    "\n",
    "pg_num = 1\n",
    "# Adjusting to get the number of reviews accordingly\n",
    "\n",
    "while pg_num <= 50:  \n",
    "    \n",
    "    get_url = base_url + str(pg_num)\n",
    "        \n",
    "    partial_reviews_df = parse(get_url)   \n",
    "    Real_Estate_Property_Information = Real_Estate_Property_Information.append(\n",
    "                     partial_reviews_df, ignore_index=True) \n",
    "    \n",
    "    pg_num += 1\n",
    "    #time.sleep(4)"
   ]
  },
  {
   "cell_type": "code",
   "execution_count": 298,
   "metadata": {},
   "outputs": [
    {
     "data": {
      "text/html": [
       "<div>\n",
       "<style scoped>\n",
       "    .dataframe tbody tr th:only-of-type {\n",
       "        vertical-align: middle;\n",
       "    }\n",
       "\n",
       "    .dataframe tbody tr th {\n",
       "        vertical-align: top;\n",
       "    }\n",
       "\n",
       "    .dataframe thead th {\n",
       "        text-align: right;\n",
       "    }\n",
       "</style>\n",
       "<table border=\"1\" class=\"dataframe\">\n",
       "  <thead>\n",
       "    <tr style=\"text-align: right;\">\n",
       "      <th></th>\n",
       "      <th>BHK</th>\n",
       "      <th>LOCATION</th>\n",
       "      <th>PRICE</th>\n",
       "      <th>PRICE_UNIT</th>\n",
       "    </tr>\n",
       "  </thead>\n",
       "  <tbody>\n",
       "    <tr>\n",
       "      <th>0</th>\n",
       "      <td>4.0</td>\n",
       "      <td>Sonarpur</td>\n",
       "      <td>95.00</td>\n",
       "      <td>L</td>\n",
       "    </tr>\n",
       "    <tr>\n",
       "      <th>1</th>\n",
       "      <td>2.0</td>\n",
       "      <td>Joka</td>\n",
       "      <td>55.00</td>\n",
       "      <td>L</td>\n",
       "    </tr>\n",
       "    <tr>\n",
       "      <th>2</th>\n",
       "      <td>4.0</td>\n",
       "      <td>Tollygunge</td>\n",
       "      <td>1.82</td>\n",
       "      <td>Cr</td>\n",
       "    </tr>\n",
       "    <tr>\n",
       "      <th>3</th>\n",
       "      <td>3.0</td>\n",
       "      <td>Narendrapur</td>\n",
       "      <td>42.76</td>\n",
       "      <td>L</td>\n",
       "    </tr>\n",
       "    <tr>\n",
       "      <th>4</th>\n",
       "      <td>2.0</td>\n",
       "      <td>Garia</td>\n",
       "      <td>70.58</td>\n",
       "      <td>L</td>\n",
       "    </tr>\n",
       "    <tr>\n",
       "      <th>...</th>\n",
       "      <td>...</td>\n",
       "      <td>...</td>\n",
       "      <td>...</td>\n",
       "      <td>...</td>\n",
       "    </tr>\n",
       "    <tr>\n",
       "      <th>1015</th>\n",
       "      <td>3.0</td>\n",
       "      <td>Narendrapur</td>\n",
       "      <td>43.00</td>\n",
       "      <td>L</td>\n",
       "    </tr>\n",
       "    <tr>\n",
       "      <th>1016</th>\n",
       "      <td>2.0</td>\n",
       "      <td>Maheshtala</td>\n",
       "      <td>28.00</td>\n",
       "      <td>L</td>\n",
       "    </tr>\n",
       "    <tr>\n",
       "      <th>1017</th>\n",
       "      <td>8.0</td>\n",
       "      <td>Ballygunge</td>\n",
       "      <td>5.00</td>\n",
       "      <td>Cr</td>\n",
       "    </tr>\n",
       "    <tr>\n",
       "      <th>1018</th>\n",
       "      <td>2.0</td>\n",
       "      <td>Ballygunge</td>\n",
       "      <td>65.00</td>\n",
       "      <td>L</td>\n",
       "    </tr>\n",
       "    <tr>\n",
       "      <th>1019</th>\n",
       "      <td>NaN</td>\n",
       "      <td>Golf Green</td>\n",
       "      <td>96.00</td>\n",
       "      <td>L</td>\n",
       "    </tr>\n",
       "  </tbody>\n",
       "</table>\n",
       "<p>1020 rows × 4 columns</p>\n",
       "</div>"
      ],
      "text/plain": [
       "      BHK     LOCATION  PRICE PRICE_UNIT\n",
       "0     4.0     Sonarpur  95.00          L\n",
       "1     2.0         Joka  55.00          L\n",
       "2     4.0   Tollygunge   1.82         Cr\n",
       "3     3.0  Narendrapur  42.76          L\n",
       "4     2.0        Garia  70.58          L\n",
       "...   ...          ...    ...        ...\n",
       "1015  3.0  Narendrapur  43.00          L\n",
       "1016  2.0   Maheshtala  28.00          L\n",
       "1017  8.0   Ballygunge   5.00         Cr\n",
       "1018  2.0   Ballygunge  65.00          L\n",
       "1019  NaN   Golf Green  96.00          L\n",
       "\n",
       "[1020 rows x 4 columns]"
      ]
     },
     "execution_count": 298,
     "metadata": {},
     "output_type": "execute_result"
    }
   ],
   "source": [
    "Real_Estate_Property_Information"
   ]
  },
  {
   "cell_type": "markdown",
   "metadata": {},
   "source": [
    "#### We have created an extra Column \"PRICE_UNIT \" to capture the Value of the PRICE (If it is in Lacks-L or Crores-Cr)"
   ]
  },
  {
   "cell_type": "code",
   "execution_count": 295,
   "metadata": {},
   "outputs": [
    {
     "name": "stdout",
     "output_type": "stream",
     "text": [
      "<class 'pandas.core.frame.DataFrame'>\n",
      "RangeIndex: 1020 entries, 0 to 1019\n",
      "Data columns (total 4 columns):\n",
      " #   Column      Non-Null Count  Dtype  \n",
      "---  ------      --------------  -----  \n",
      " 0   BHK         969 non-null    float64\n",
      " 1   LOCATION    1020 non-null   object \n",
      " 2   PRICE       1020 non-null   float64\n",
      " 3   PRICE_UNIT  1020 non-null   object \n",
      "dtypes: float64(2), object(2)\n",
      "memory usage: 32.0+ KB\n"
     ]
    }
   ],
   "source": [
    "all_reviews_df.info()"
   ]
  },
  {
   "cell_type": "code",
   "execution_count": null,
   "metadata": {},
   "outputs": [],
   "source": [
    "# Data Set wit First 200 Properties"
   ]
  },
  {
   "cell_type": "code",
   "execution_count": 299,
   "metadata": {},
   "outputs": [],
   "source": [
    "Real_Estate_Property_Information_200=Real_Estate_Property_Information.head(200)"
   ]
  },
  {
   "cell_type": "code",
   "execution_count": 301,
   "metadata": {},
   "outputs": [
    {
     "data": {
      "text/html": [
       "<div>\n",
       "<style scoped>\n",
       "    .dataframe tbody tr th:only-of-type {\n",
       "        vertical-align: middle;\n",
       "    }\n",
       "\n",
       "    .dataframe tbody tr th {\n",
       "        vertical-align: top;\n",
       "    }\n",
       "\n",
       "    .dataframe thead th {\n",
       "        text-align: right;\n",
       "    }\n",
       "</style>\n",
       "<table border=\"1\" class=\"dataframe\">\n",
       "  <thead>\n",
       "    <tr style=\"text-align: right;\">\n",
       "      <th></th>\n",
       "      <th>BHK</th>\n",
       "      <th>LOCATION</th>\n",
       "      <th>PRICE</th>\n",
       "      <th>PRICE_UNIT</th>\n",
       "    </tr>\n",
       "  </thead>\n",
       "  <tbody>\n",
       "    <tr>\n",
       "      <th>0</th>\n",
       "      <td>4.0</td>\n",
       "      <td>Sonarpur</td>\n",
       "      <td>95.00</td>\n",
       "      <td>L</td>\n",
       "    </tr>\n",
       "    <tr>\n",
       "      <th>1</th>\n",
       "      <td>2.0</td>\n",
       "      <td>Joka</td>\n",
       "      <td>55.00</td>\n",
       "      <td>L</td>\n",
       "    </tr>\n",
       "    <tr>\n",
       "      <th>2</th>\n",
       "      <td>4.0</td>\n",
       "      <td>Tollygunge</td>\n",
       "      <td>1.82</td>\n",
       "      <td>Cr</td>\n",
       "    </tr>\n",
       "    <tr>\n",
       "      <th>3</th>\n",
       "      <td>3.0</td>\n",
       "      <td>Narendrapur</td>\n",
       "      <td>42.76</td>\n",
       "      <td>L</td>\n",
       "    </tr>\n",
       "    <tr>\n",
       "      <th>4</th>\n",
       "      <td>2.0</td>\n",
       "      <td>Garia</td>\n",
       "      <td>70.58</td>\n",
       "      <td>L</td>\n",
       "    </tr>\n",
       "    <tr>\n",
       "      <th>...</th>\n",
       "      <td>...</td>\n",
       "      <td>...</td>\n",
       "      <td>...</td>\n",
       "      <td>...</td>\n",
       "    </tr>\n",
       "    <tr>\n",
       "      <th>195</th>\n",
       "      <td>3.0</td>\n",
       "      <td>Narendrapur</td>\n",
       "      <td>43.00</td>\n",
       "      <td>L</td>\n",
       "    </tr>\n",
       "    <tr>\n",
       "      <th>196</th>\n",
       "      <td>2.0</td>\n",
       "      <td>Maheshtala</td>\n",
       "      <td>28.00</td>\n",
       "      <td>L</td>\n",
       "    </tr>\n",
       "    <tr>\n",
       "      <th>197</th>\n",
       "      <td>8.0</td>\n",
       "      <td>Ballygunge</td>\n",
       "      <td>5.00</td>\n",
       "      <td>Cr</td>\n",
       "    </tr>\n",
       "    <tr>\n",
       "      <th>198</th>\n",
       "      <td>2.0</td>\n",
       "      <td>Ballygunge</td>\n",
       "      <td>65.00</td>\n",
       "      <td>L</td>\n",
       "    </tr>\n",
       "    <tr>\n",
       "      <th>199</th>\n",
       "      <td>NaN</td>\n",
       "      <td>Golf Green</td>\n",
       "      <td>96.00</td>\n",
       "      <td>L</td>\n",
       "    </tr>\n",
       "  </tbody>\n",
       "</table>\n",
       "<p>200 rows × 4 columns</p>\n",
       "</div>"
      ],
      "text/plain": [
       "     BHK     LOCATION  PRICE PRICE_UNIT\n",
       "0    4.0     Sonarpur  95.00          L\n",
       "1    2.0         Joka  55.00          L\n",
       "2    4.0   Tollygunge   1.82         Cr\n",
       "3    3.0  Narendrapur  42.76          L\n",
       "4    2.0        Garia  70.58          L\n",
       "..   ...          ...    ...        ...\n",
       "195  3.0  Narendrapur  43.00          L\n",
       "196  2.0   Maheshtala  28.00          L\n",
       "197  8.0   Ballygunge   5.00         Cr\n",
       "198  2.0   Ballygunge  65.00          L\n",
       "199  NaN   Golf Green  96.00          L\n",
       "\n",
       "[200 rows x 4 columns]"
      ]
     },
     "execution_count": 301,
     "metadata": {},
     "output_type": "execute_result"
    }
   ],
   "source": [
    "Real_Estate_Property_Information_200"
   ]
  },
  {
   "cell_type": "markdown",
   "metadata": {},
   "": [
    ""
   ]
  },
  {
   "cell_type": "code",
   "execution_count": null,
   "metadata": {},
   "outputs": [],
   "source": []
  },
  {
   "cell_type": "code",
   "execution_count": null,
   "metadata": {},
   "outputs": [],
   "source": []
  },
  {
   "cell_type": "code",
   "execution_count": null,
   "metadata": {},
   "outputs": [],
   "source": []
  },
  {
   "cell_type": "code",
   "execution_count": null,
   "metadata": {},
   "outputs": [],
   "source": []
  },
  {
   "cell_type": "code",
   "execution_count": null,
   "metadata": {},
   "outputs": [],
   "source": []
  },
  {
   "cell_type": "code",
   "execution_count": null,
   "metadata": {},
   "outputs": [],
   "source": []
  }
 ],
 "metadata": {
  "kernelspec": {
   "display_name": "Python 3",
   "language": "python",
   "name": "python3"
  },
  "language_info": {
   "codemirror_mode": {
    "name": "ipython",
    "version": 3
   },
   "file_extension": ".py",
   "mimetype": "text/x-python",
   "name": "python",
   "nbconvert_exporter": "python",
   "pygments_lexer": "ipython3",
   "version": "3.8.3"
  }
 },
 "nbformat": 4,
 "nbformat_minor": 4
}
