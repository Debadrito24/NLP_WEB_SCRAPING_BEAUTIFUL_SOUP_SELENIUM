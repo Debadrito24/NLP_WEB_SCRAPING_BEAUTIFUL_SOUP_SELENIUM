{
 "cells": [
  {
   "cell_type": "code",
   "execution_count": 65,
   "metadata": {
    "id": "TSxmqVnscrHb"
   },
   "outputs": [],
   "source": [
    "from selenium.webdriver import Chrome\n",
    "import time"
   ]
  },
  {
   "cell_type": "code",
   "execution_count": 66,
   "metadata": {
    "id": "_0BjZzlqcrHf"
   },
   "outputs": [],
   "source": [
    "# !conda install -c conda-forge selenium"
   ]
  },
  {
   "cell_type": "code",
   "execution_count": 67,
   "metadata": {
    "id": "cOFFbU1ZcrHg"
   },
   "outputs": [],
   "source": [
    "browser = Chrome(executable_path='C:/Users/DEBADRITO/Desktop/Term 3/TEXT ANALYTICS/chromedriver.exe') # Make sure that the geckodriver (or chromedriver for Google Chrome) is available in your system"
   ]
  },
  {
   "cell_type": "code",
   "execution_count": 68,
   "metadata": {
    "id": "RrVG2ximcrHh"
   },
   "outputs": [],
   "source": [
    "browser.get('https://www.makaan.com/kolkata/kolkata-south-property-10038?page=1')"
   ]
  },
  {
   "cell_type": "code",
   "execution_count": 69,
   "metadata": {
    "id": "y5iUQwhRcrHh",
    "outputId": "1b2e8a3d-302c-4e71-f80b-dca23a1c9761"
   },
   "outputs": [],
   "source": [
    "#len(containers)"
   ]
  },
  {
   "cell_type": "code",
   "execution_count": 70,
   "metadata": {
    "id": "baJ4MJ2ccrHi"
   },
   "outputs": [],
   "source": [
    "from bs4 import BeautifulSoup"
   ]
  },
  {
   "cell_type": "code",
   "execution_count": 71,
   "metadata": {
    "id": "IMd2bDgKcrHi"
   },
   "outputs": [],
   "source": [
    "containers_1 = [x.get_attribute('innerHTML') for x in browser.find_elements_by_xpath(\"//div[@class='title-line-wrap']\")]\n",
    "BHK = {'BHK' : []}\n",
    "\n",
    "for container in containers_1:\n",
    "    doc = BeautifulSoup(container)\n",
    "    \n",
    "    try:\n",
    "        bhk = int(doc.find('span', attrs={'class':'val'}).text)\n",
    "    \n",
    "    except:\n",
    "        bhk = None\n",
    "        \n",
    "    BHK['BHK'].append(bhk)"
   ]
  },
  {
   "cell_type": "code",
   "execution_count": 72,
   "metadata": {
    "id": "5oKlL1eTcrHj",
    "outputId": "ec17a5a3-0679-435c-9fc5-4055d7f0cfd2"
   },
   "outputs": [
    {
     "data": {
      "text/plain": [
       "{'BHK': [2, 3, 4, 2, 3, 3, 2, 2, 3, 5, 2, 3, 2, 2, 2, 2, 3, 2, 8, 2]}"
      ]
     },
     "execution_count": 72,
     "metadata": {},
     "output_type": "execute_result"
    }
   ],
   "source": [
    "BHK"
   ]
  },
  {
   "cell_type": "code",
   "execution_count": 73,
   "metadata": {
    "id": "BvR5GTiWcrHj"
   },
   "outputs": [],
   "source": [
    "containers_2 = [x.get_attribute('innerHTML') for x in browser.find_elements_by_xpath(\"//a[@class='loclink']\")]\n",
    "                 \n",
    "LOCATION = {'Location' : []}\n",
    "    \n",
    "for container in containers_2:\n",
    "    doc = BeautifulSoup(container)\n",
    "    \n",
    "    try:\n",
    "        loc = doc.find('span', attrs={'itemprop':'addressLocality'}).text\n",
    "    \n",
    "    except:\n",
    "        loc = None\n",
    "        \n",
    "    LOCATION['Location'].append(loc)                 \n",
    "                 "
   ]
  },
  {
   "cell_type": "code",
   "execution_count": 74,
   "metadata": {
    "id": "X1vX7I-0crHk",
    "outputId": "0902db47-add1-4f61-9c76-0faab2c3c187"
   },
   "outputs": [
    {
     "data": {
      "text/plain": [
       "{'Location': ['Maheshtala',\n",
       "  'Picnic Garden',\n",
       "  'Sonarpur',\n",
       "  'Joka',\n",
       "  'Narendrapur',\n",
       "  'Garia',\n",
       "  'Sonarpur',\n",
       "  'Sonarpur',\n",
       "  'Behala',\n",
       "  'Nimta',\n",
       "  'Baghajatin',\n",
       "  'Garia',\n",
       "  'Santoshpur',\n",
       "  'Bata Nagar',\n",
       "  'Regent Park',\n",
       "  'Haltu',\n",
       "  'Narendrapur',\n",
       "  'Maheshtala',\n",
       "  'Ballygunge',\n",
       "  'Ballygunge']}"
      ]
     },
     "execution_count": 74,
     "metadata": {},
     "output_type": "execute_result"
    }
   ],
   "source": [
    "LOCATION"
   ]
  },
  {
   "cell_type": "code",
   "execution_count": 75,
   "metadata": {
    "id": "gw6VkMPLcrHk"
   },
   "outputs": [],
   "source": [
    "containers_3 = [x.get_attribute('innerHTML') for x in browser.find_elements_by_xpath(\"//td[@class='price']\")]\n",
    "PRICE = {'PRICE' : []}                 \n",
    "for container in containers_3:\n",
    "    doc = BeautifulSoup(container)\n",
    "    \n",
    "    try:\n",
    "        price = float(doc.find('span', attrs={'class':'val'}).text)\n",
    "    \n",
    "    except:\n",
    "        price = None\n",
    "        \n",
    "    PRICE['PRICE'].append(price)                 \n",
    "                 "
   ]
  },
  {
   "cell_type": "code",
   "execution_count": 76,
   "metadata": {
    "id": "eh_kAijzcrHk",
    "outputId": "4774be23-6d4f-4aef-d320-9b9300afb426"
   },
   "outputs": [
    {
     "data": {
      "text/plain": [
       "{'PRICE': [23.9,\n",
       "  72.37,\n",
       "  86.0,\n",
       "  55.0,\n",
       "  42.76,\n",
       "  93.63,\n",
       "  31.78,\n",
       "  32.5,\n",
       "  58.31,\n",
       "  70.0,\n",
       "  19.0,\n",
       "  40.0,\n",
       "  55.0,\n",
       "  26.0,\n",
       "  21.0,\n",
       "  46.0,\n",
       "  43.0,\n",
       "  28.0,\n",
       "  5.0,\n",
       "  65.0]}"
      ]
     },
     "execution_count": 76,
     "metadata": {},
     "output_type": "execute_result"
    }
   ],
   "source": [
    "PRICE"
   ]
  },
  {
   "cell_type": "code",
   "execution_count": 77,
   "metadata": {
    "id": "xX_Oc-t9crHl"
   },
   "outputs": [],
   "source": [
    "containers_4 = [x.get_attribute('innerHTML') for x in browser.find_elements_by_xpath(\"//td[@class='price']\")]\n",
    "PRICE_UNIT = {'PRICE_UNIT' : []}                 \n",
    "for container in containers_4:\n",
    "    doc = BeautifulSoup(container)\n",
    "    \n",
    "    try:\n",
    "        price_unit = doc.find('span', attrs={'class':'unit'}).text\n",
    "    \n",
    "    except:\n",
    "        price_unit = None\n",
    "        \n",
    "    PRICE_UNIT['PRICE_UNIT'].append(price_unit)  "
   ]
  },
  {
   "cell_type": "code",
   "execution_count": 78,
   "metadata": {
    "id": "cDoIeb7lcrHl",
    "outputId": "164bb0ce-08bb-4ce1-bca4-4e55c97f1dca"
   },
   "outputs": [
    {
     "data": {
      "text/plain": [
       "{'PRICE_UNIT': [' L',\n",
       "  ' L',\n",
       "  ' L',\n",
       "  ' L',\n",
       "  ' L',\n",
       "  ' L',\n",
       "  ' L',\n",
       "  ' L',\n",
       "  ' L',\n",
       "  ' L',\n",
       "  ' L',\n",
       "  ' L',\n",
       "  ' L',\n",
       "  ' L',\n",
       "  ' L',\n",
       "  ' L',\n",
       "  ' L',\n",
       "  ' L',\n",
       "  ' Cr',\n",
       "  ' L']}"
      ]
     },
     "execution_count": 78,
     "metadata": {},
     "output_type": "execute_result"
    }
   ],
   "source": [
    "PRICE_UNIT"
   ]
  },
  {
   "cell_type": "code",
   "execution_count": 79,
   "metadata": {},
   "outputs": [],
   "source": [
    "import pandas as pd"
   ]
  },
  {
   "cell_type": "code",
   "execution_count": 80,
   "metadata": {
    "id": "UOX6lnpGcrHl"
   },
   "outputs": [],
   "source": [
    "\n",
    "\n",
    "def parse(full_url):\n",
    "##########################################################################################################################    \n",
    "    containers_1 = [x.get_attribute('innerHTML') for x in browser.find_elements_by_xpath(\"//div[@class='title-line-wrap']\")]\n",
    "    BHK = []\n",
    "\n",
    "    for container in containers_1:\n",
    "        doc = BeautifulSoup(container)\n",
    "    \n",
    "        try:\n",
    "            bhk = int(doc.find('span', attrs={'class':'val'}).text)\n",
    "    \n",
    "        except:\n",
    "            bhk = None\n",
    "        \n",
    "        BHK.append(bhk)\n",
    "\n",
    "#########################################################################################################################    \n",
    "    containers_2 = [x.get_attribute('innerHTML') for x in browser.find_elements_by_xpath(\"//a[@class='loclink']\")]\n",
    "                 \n",
    "    LOCATION = []\n",
    "    \n",
    "    for container in containers_2:\n",
    "            doc = BeautifulSoup(container)\n",
    "    \n",
    "            try:\n",
    "                 loc = doc.find('span', attrs={'itemprop':'addressLocality'}).text\n",
    "    \n",
    "            except:\n",
    "                 loc = None\n",
    "        \n",
    "            LOCATION.append(loc)\n",
    "\n",
    "########################################################################################################################    \n",
    "    containers_3 = [x.get_attribute('innerHTML') for x in browser.find_elements_by_xpath(\"//td[@class='price']\")]\n",
    "\n",
    "    PRICE = []    \n",
    "\n",
    "    for container in containers_3:\n",
    "            doc = BeautifulSoup(container)\n",
    "    \n",
    "            try:\n",
    "                  price = float(doc.find('span', attrs={'class':'val'}).text)\n",
    "    \n",
    "            except:\n",
    "                  price = None\n",
    "        \n",
    "            PRICE.append(price)  \n",
    "\n",
    "##########################################################################################################################                 \n",
    "        \n",
    "    containers_4 = [x.get_attribute('innerHTML') for x in browser.find_elements_by_xpath(\"//td[@class='price']\")]\n",
    "\n",
    "    PRICE_UNIT = []\n",
    "\n",
    "    for container in containers_4:\n",
    "            doc = BeautifulSoup(container)\n",
    "    \n",
    "            try:\n",
    "                price_unit = doc.find('span', attrs={'class':'unit'}).text\n",
    "    \n",
    "            except:\n",
    "                price_unit = None\n",
    "        \n",
    "            PRICE_UNIT.append(price_unit)  \n",
    "\n",
    "    df = pd.DataFrame({'BHK' : BHK,\n",
    "                                'LOCATION' : LOCATION,\n",
    "                                'PRICE' : PRICE,\n",
    "                            'PRICE_UNIT' : PRICE_UNIT })\n",
    "    return df   \n"
   ]
  },
  {
   "cell_type": "code",
   "execution_count": 81,
   "metadata": {},
   "outputs": [
    {
     "data": {
      "text/html": [
       "<div>\n",
       "<style scoped>\n",
       "    .dataframe tbody tr th:only-of-type {\n",
       "        vertical-align: middle;\n",
       "    }\n",
       "\n",
       "    .dataframe tbody tr th {\n",
       "        vertical-align: top;\n",
       "    }\n",
       "\n",
       "    .dataframe thead th {\n",
       "        text-align: right;\n",
       "    }\n",
       "</style>\n",
       "<table border=\"1\" class=\"dataframe\">\n",
       "  <thead>\n",
       "    <tr style=\"text-align: right;\">\n",
       "      <th></th>\n",
       "      <th>BHK</th>\n",
       "      <th>LOCATION</th>\n",
       "      <th>PRICE</th>\n",
       "      <th>PRICE_UNIT</th>\n",
       "    </tr>\n",
       "  </thead>\n",
       "  <tbody>\n",
       "    <tr>\n",
       "      <th>0</th>\n",
       "      <td>2</td>\n",
       "      <td>Maheshtala</td>\n",
       "      <td>23.90</td>\n",
       "      <td>L</td>\n",
       "    </tr>\n",
       "    <tr>\n",
       "      <th>1</th>\n",
       "      <td>3</td>\n",
       "      <td>Picnic Garden</td>\n",
       "      <td>72.37</td>\n",
       "      <td>L</td>\n",
       "    </tr>\n",
       "    <tr>\n",
       "      <th>2</th>\n",
       "      <td>4</td>\n",
       "      <td>Sonarpur</td>\n",
       "      <td>86.00</td>\n",
       "      <td>L</td>\n",
       "    </tr>\n",
       "    <tr>\n",
       "      <th>3</th>\n",
       "      <td>2</td>\n",
       "      <td>Joka</td>\n",
       "      <td>55.00</td>\n",
       "      <td>L</td>\n",
       "    </tr>\n",
       "    <tr>\n",
       "      <th>4</th>\n",
       "      <td>3</td>\n",
       "      <td>Narendrapur</td>\n",
       "      <td>42.76</td>\n",
       "      <td>L</td>\n",
       "    </tr>\n",
       "    <tr>\n",
       "      <th>5</th>\n",
       "      <td>3</td>\n",
       "      <td>Garia</td>\n",
       "      <td>93.63</td>\n",
       "      <td>L</td>\n",
       "    </tr>\n",
       "    <tr>\n",
       "      <th>6</th>\n",
       "      <td>2</td>\n",
       "      <td>Sonarpur</td>\n",
       "      <td>31.78</td>\n",
       "      <td>L</td>\n",
       "    </tr>\n",
       "    <tr>\n",
       "      <th>7</th>\n",
       "      <td>2</td>\n",
       "      <td>Sonarpur</td>\n",
       "      <td>32.50</td>\n",
       "      <td>L</td>\n",
       "    </tr>\n",
       "    <tr>\n",
       "      <th>8</th>\n",
       "      <td>3</td>\n",
       "      <td>Behala</td>\n",
       "      <td>58.31</td>\n",
       "      <td>L</td>\n",
       "    </tr>\n",
       "    <tr>\n",
       "      <th>9</th>\n",
       "      <td>5</td>\n",
       "      <td>Nimta</td>\n",
       "      <td>70.00</td>\n",
       "      <td>L</td>\n",
       "    </tr>\n",
       "    <tr>\n",
       "      <th>10</th>\n",
       "      <td>2</td>\n",
       "      <td>Baghajatin</td>\n",
       "      <td>19.00</td>\n",
       "      <td>L</td>\n",
       "    </tr>\n",
       "    <tr>\n",
       "      <th>11</th>\n",
       "      <td>3</td>\n",
       "      <td>Garia</td>\n",
       "      <td>40.00</td>\n",
       "      <td>L</td>\n",
       "    </tr>\n",
       "    <tr>\n",
       "      <th>12</th>\n",
       "      <td>2</td>\n",
       "      <td>Santoshpur</td>\n",
       "      <td>55.00</td>\n",
       "      <td>L</td>\n",
       "    </tr>\n",
       "    <tr>\n",
       "      <th>13</th>\n",
       "      <td>2</td>\n",
       "      <td>Bata Nagar</td>\n",
       "      <td>26.00</td>\n",
       "      <td>L</td>\n",
       "    </tr>\n",
       "    <tr>\n",
       "      <th>14</th>\n",
       "      <td>2</td>\n",
       "      <td>Regent Park</td>\n",
       "      <td>21.00</td>\n",
       "      <td>L</td>\n",
       "    </tr>\n",
       "    <tr>\n",
       "      <th>15</th>\n",
       "      <td>2</td>\n",
       "      <td>Haltu</td>\n",
       "      <td>46.00</td>\n",
       "      <td>L</td>\n",
       "    </tr>\n",
       "    <tr>\n",
       "      <th>16</th>\n",
       "      <td>3</td>\n",
       "      <td>Narendrapur</td>\n",
       "      <td>43.00</td>\n",
       "      <td>L</td>\n",
       "    </tr>\n",
       "    <tr>\n",
       "      <th>17</th>\n",
       "      <td>2</td>\n",
       "      <td>Maheshtala</td>\n",
       "      <td>28.00</td>\n",
       "      <td>L</td>\n",
       "    </tr>\n",
       "    <tr>\n",
       "      <th>18</th>\n",
       "      <td>8</td>\n",
       "      <td>Ballygunge</td>\n",
       "      <td>5.00</td>\n",
       "      <td>Cr</td>\n",
       "    </tr>\n",
       "    <tr>\n",
       "      <th>19</th>\n",
       "      <td>2</td>\n",
       "      <td>Ballygunge</td>\n",
       "      <td>65.00</td>\n",
       "      <td>L</td>\n",
       "    </tr>\n",
       "  </tbody>\n",
       "</table>\n",
       "</div>"
      ],
      "text/plain": [
       "    BHK       LOCATION  PRICE PRICE_UNIT\n",
       "0     2     Maheshtala  23.90          L\n",
       "1     3  Picnic Garden  72.37          L\n",
       "2     4       Sonarpur  86.00          L\n",
       "3     2           Joka  55.00          L\n",
       "4     3    Narendrapur  42.76          L\n",
       "5     3          Garia  93.63          L\n",
       "6     2       Sonarpur  31.78          L\n",
       "7     2       Sonarpur  32.50          L\n",
       "8     3         Behala  58.31          L\n",
       "9     5          Nimta  70.00          L\n",
       "10    2     Baghajatin  19.00          L\n",
       "11    3          Garia  40.00          L\n",
       "12    2     Santoshpur  55.00          L\n",
       "13    2     Bata Nagar  26.00          L\n",
       "14    2    Regent Park  21.00          L\n",
       "15    2          Haltu  46.00          L\n",
       "16    3    Narendrapur  43.00          L\n",
       "17    2     Maheshtala  28.00          L\n",
       "18    8     Ballygunge   5.00         Cr\n",
       "19    2     Ballygunge  65.00          L"
      ]
     },
     "execution_count": 81,
     "metadata": {},
     "output_type": "execute_result"
    }
   ],
   "source": [
    "# Trying for one page only\n",
    "\n",
    "parse('https://www.makaan.com/kolkata/kolkata-south-property-10038?page=1')"
   ]
  },
  {
   "cell_type": "code",
   "execution_count": 82,
   "metadata": {
    "id": "nGCLFI7rcrHm"
   },
   "outputs": [],
   "source": [
    "base_url = 'https://www.makaan.com/kolkata/kolkata-south-property-10038?page='\n",
    "\n",
    "\n",
    "Real_Estate_Property_Information =pd.DataFrame(columns=['BHK',\n",
    "                                'LOCATION' ,\n",
    "                                'PRICE' ,\n",
    "                                'PRICE_UNIT'])\n",
    "\n",
    "\n",
    "\n",
    "pg_num = 1\n",
    "# Adjusting to get the number of reviews accordingly\n",
    "\n",
    "while pg_num <= 50:  \n",
    "    \n",
    "    get_url = base_url + str(pg_num)\n",
    "        \n",
    "    partial_reviews_df = parse(get_url)   \n",
    "    Real_Estate_Property_Information = Real_Estate_Property_Information.append(\n",
    "                     partial_reviews_df, ignore_index=True) \n",
    "    \n",
    "    pg_num += 1\n",
    "    #time.sleep(4)"
   ]
  },
  {
   "cell_type": "code",
   "execution_count": 83,
   "metadata": {
    "id": "IiWBd_Q9crHn",
    "outputId": "9f9eb0e3-a471-4e8a-8d00-fc8a7154ef85"
   },
   "outputs": [
    {
     "data": {
      "text/html": [
       "<div>\n",
       "<style scoped>\n",
       "    .dataframe tbody tr th:only-of-type {\n",
       "        vertical-align: middle;\n",
       "    }\n",
       "\n",
       "    .dataframe tbody tr th {\n",
       "        vertical-align: top;\n",
       "    }\n",
       "\n",
       "    .dataframe thead th {\n",
       "        text-align: right;\n",
       "    }\n",
       "</style>\n",
       "<table border=\"1\" class=\"dataframe\">\n",
       "  <thead>\n",
       "    <tr style=\"text-align: right;\">\n",
       "      <th></th>\n",
       "      <th>BHK</th>\n",
       "      <th>LOCATION</th>\n",
       "      <th>PRICE</th>\n",
       "      <th>PRICE_UNIT</th>\n",
       "    </tr>\n",
       "  </thead>\n",
       "  <tbody>\n",
       "    <tr>\n",
       "      <th>0</th>\n",
       "      <td>2</td>\n",
       "      <td>Maheshtala</td>\n",
       "      <td>23.90</td>\n",
       "      <td>L</td>\n",
       "    </tr>\n",
       "    <tr>\n",
       "      <th>1</th>\n",
       "      <td>3</td>\n",
       "      <td>Picnic Garden</td>\n",
       "      <td>72.37</td>\n",
       "      <td>L</td>\n",
       "    </tr>\n",
       "    <tr>\n",
       "      <th>2</th>\n",
       "      <td>4</td>\n",
       "      <td>Sonarpur</td>\n",
       "      <td>86.00</td>\n",
       "      <td>L</td>\n",
       "    </tr>\n",
       "    <tr>\n",
       "      <th>3</th>\n",
       "      <td>2</td>\n",
       "      <td>Joka</td>\n",
       "      <td>55.00</td>\n",
       "      <td>L</td>\n",
       "    </tr>\n",
       "    <tr>\n",
       "      <th>4</th>\n",
       "      <td>3</td>\n",
       "      <td>Narendrapur</td>\n",
       "      <td>42.76</td>\n",
       "      <td>L</td>\n",
       "    </tr>\n",
       "    <tr>\n",
       "      <th>...</th>\n",
       "      <td>...</td>\n",
       "      <td>...</td>\n",
       "      <td>...</td>\n",
       "      <td>...</td>\n",
       "    </tr>\n",
       "    <tr>\n",
       "      <th>995</th>\n",
       "      <td>2</td>\n",
       "      <td>Haltu</td>\n",
       "      <td>46.00</td>\n",
       "      <td>L</td>\n",
       "    </tr>\n",
       "    <tr>\n",
       "      <th>996</th>\n",
       "      <td>3</td>\n",
       "      <td>Narendrapur</td>\n",
       "      <td>43.00</td>\n",
       "      <td>L</td>\n",
       "    </tr>\n",
       "    <tr>\n",
       "      <th>997</th>\n",
       "      <td>2</td>\n",
       "      <td>Maheshtala</td>\n",
       "      <td>28.00</td>\n",
       "      <td>L</td>\n",
       "    </tr>\n",
       "    <tr>\n",
       "      <th>998</th>\n",
       "      <td>8</td>\n",
       "      <td>Ballygunge</td>\n",
       "      <td>5.00</td>\n",
       "      <td>Cr</td>\n",
       "    </tr>\n",
       "    <tr>\n",
       "      <th>999</th>\n",
       "      <td>2</td>\n",
       "      <td>Ballygunge</td>\n",
       "      <td>65.00</td>\n",
       "      <td>L</td>\n",
       "    </tr>\n",
       "  </tbody>\n",
       "</table>\n",
       "<p>1000 rows × 4 columns</p>\n",
       "</div>"
      ],
      "text/plain": [
       "    BHK       LOCATION  PRICE PRICE_UNIT\n",
       "0     2     Maheshtala  23.90          L\n",
       "1     3  Picnic Garden  72.37          L\n",
       "2     4       Sonarpur  86.00          L\n",
       "3     2           Joka  55.00          L\n",
       "4     3    Narendrapur  42.76          L\n",
       "..   ..            ...    ...        ...\n",
       "995   2          Haltu  46.00          L\n",
       "996   3    Narendrapur  43.00          L\n",
       "997   2     Maheshtala  28.00          L\n",
       "998   8     Ballygunge   5.00         Cr\n",
       "999   2     Ballygunge  65.00          L\n",
       "\n",
       "[1000 rows x 4 columns]"
      ]
     },
     "execution_count": 83,
     "metadata": {},
     "output_type": "execute_result"
    }
   ],
   "source": [
    "Real_Estate_Property_Information"
   ]
  },
  {
   "cell_type": "markdown",
   "metadata": {
    "id": "HKMwgiulcrHn"
   },
   "source": [
    "#### We have created an extra Column \"PRICE_UNIT \" to capture the Value of the PRICE (If it is in Lacks-L or Crores-Cr)"
   ]
  },
  {
   "cell_type": "code",
   "execution_count": 84,
   "metadata": {
    "id": "v3TEGBJWcrHo",
    "outputId": "10281f95-2b51-4e13-e95c-797d375510f0"
   },
   "outputs": [
    {
     "name": "stdout",
     "output_type": "stream",
     "text": [
      "<class 'pandas.core.frame.DataFrame'>\n",
      "RangeIndex: 1000 entries, 0 to 999\n",
      "Data columns (total 4 columns):\n",
      " #   Column      Non-Null Count  Dtype  \n",
      "---  ------      --------------  -----  \n",
      " 0   BHK         1000 non-null   object \n",
      " 1   LOCATION    1000 non-null   object \n",
      " 2   PRICE       1000 non-null   float64\n",
      " 3   PRICE_UNIT  1000 non-null   object \n",
      "dtypes: float64(1), object(3)\n",
      "memory usage: 31.4+ KB\n"
     ]
    }
   ],
   "source": [
    "Real_Estate_Property_Information.info()"
   ]
  },
  {
   "cell_type": "code",
   "execution_count": 85,
   "metadata": {
    "id": "NDHJH8DocrHo"
   },
   "outputs": [],
   "source": [
    "# Data Set wit First 200 Properties"
   ]
  },
  {
   "cell_type": "code",
   "execution_count": 86,
   "metadata": {
    "id": "LEtztJzwcrHo"
   },
   "outputs": [],
   "source": [
    "Real_Estate_Property_Information_200=Real_Estate_Property_Information.head(200)"
   ]
  },
  {
   "cell_type": "code",
   "execution_count": 87,
   "metadata": {
    "id": "pn1ixAoNcrHq",
    "outputId": "cfa858cc-1fc7-43c5-b545-20e766e48ba1"
   },
   "outputs": [
    {
     "data": {
      "text/html": [
       "<div>\n",
       "<style scoped>\n",
       "    .dataframe tbody tr th:only-of-type {\n",
       "        vertical-align: middle;\n",
       "    }\n",
       "\n",
       "    .dataframe tbody tr th {\n",
       "        vertical-align: top;\n",
       "    }\n",
       "\n",
       "    .dataframe thead th {\n",
       "        text-align: right;\n",
       "    }\n",
       "</style>\n",
       "<table border=\"1\" class=\"dataframe\">\n",
       "  <thead>\n",
       "    <tr style=\"text-align: right;\">\n",
       "      <th></th>\n",
       "      <th>BHK</th>\n",
       "      <th>LOCATION</th>\n",
       "      <th>PRICE</th>\n",
       "      <th>PRICE_UNIT</th>\n",
       "    </tr>\n",
       "  </thead>\n",
       "  <tbody>\n",
       "    <tr>\n",
       "      <th>0</th>\n",
       "      <td>2</td>\n",
       "      <td>Maheshtala</td>\n",
       "      <td>23.90</td>\n",
       "      <td>L</td>\n",
       "    </tr>\n",
       "    <tr>\n",
       "      <th>1</th>\n",
       "      <td>3</td>\n",
       "      <td>Picnic Garden</td>\n",
       "      <td>72.37</td>\n",
       "      <td>L</td>\n",
       "    </tr>\n",
       "    <tr>\n",
       "      <th>2</th>\n",
       "      <td>4</td>\n",
       "      <td>Sonarpur</td>\n",
       "      <td>86.00</td>\n",
       "      <td>L</td>\n",
       "    </tr>\n",
       "    <tr>\n",
       "      <th>3</th>\n",
       "      <td>2</td>\n",
       "      <td>Joka</td>\n",
       "      <td>55.00</td>\n",
       "      <td>L</td>\n",
       "    </tr>\n",
       "    <tr>\n",
       "      <th>4</th>\n",
       "      <td>3</td>\n",
       "      <td>Narendrapur</td>\n",
       "      <td>42.76</td>\n",
       "      <td>L</td>\n",
       "    </tr>\n",
       "    <tr>\n",
       "      <th>...</th>\n",
       "      <td>...</td>\n",
       "      <td>...</td>\n",
       "      <td>...</td>\n",
       "      <td>...</td>\n",
       "    </tr>\n",
       "    <tr>\n",
       "      <th>195</th>\n",
       "      <td>2</td>\n",
       "      <td>Haltu</td>\n",
       "      <td>46.00</td>\n",
       "      <td>L</td>\n",
       "    </tr>\n",
       "    <tr>\n",
       "      <th>196</th>\n",
       "      <td>3</td>\n",
       "      <td>Narendrapur</td>\n",
       "      <td>43.00</td>\n",
       "      <td>L</td>\n",
       "    </tr>\n",
       "    <tr>\n",
       "      <th>197</th>\n",
       "      <td>2</td>\n",
       "      <td>Maheshtala</td>\n",
       "      <td>28.00</td>\n",
       "      <td>L</td>\n",
       "    </tr>\n",
       "    <tr>\n",
       "      <th>198</th>\n",
       "      <td>8</td>\n",
       "      <td>Ballygunge</td>\n",
       "      <td>5.00</td>\n",
       "      <td>Cr</td>\n",
       "    </tr>\n",
       "    <tr>\n",
       "      <th>199</th>\n",
       "      <td>2</td>\n",
       "      <td>Ballygunge</td>\n",
       "      <td>65.00</td>\n",
       "      <td>L</td>\n",
       "    </tr>\n",
       "  </tbody>\n",
       "</table>\n",
       "<p>200 rows × 4 columns</p>\n",
       "</div>"
      ],
      "text/plain": [
       "    BHK       LOCATION  PRICE PRICE_UNIT\n",
       "0     2     Maheshtala  23.90          L\n",
       "1     3  Picnic Garden  72.37          L\n",
       "2     4       Sonarpur  86.00          L\n",
       "3     2           Joka  55.00          L\n",
       "4     3    Narendrapur  42.76          L\n",
       "..   ..            ...    ...        ...\n",
       "195   2          Haltu  46.00          L\n",
       "196   3    Narendrapur  43.00          L\n",
       "197   2     Maheshtala  28.00          L\n",
       "198   8     Ballygunge   5.00         Cr\n",
       "199   2     Ballygunge  65.00          L\n",
       "\n",
       "[200 rows x 4 columns]"
      ]
     },
     "execution_count": 87,
     "metadata": {},
     "output_type": "execute_result"
    }
   ],
   "source": [
    "Real_Estate_Property_Information_200"
   ]
  },
  {
   "cell_type": "markdown",
   "metadata": {
    "id": "HjBoDFLLcrHq"
   },
   "source": [
    "###### Source Text Analytics Class IPNYB FILE REFERENCE"
   ]
  },
  {
   "cell_type": "code",
   "execution_count": null,
   "metadata": {
    "id": "iCam8ekncrHq"
   },
   "outputs": [],
   "source": []
  },
  {
   "cell_type": "code",
   "execution_count": null,
   "metadata": {
    "id": "02_jSQ1bcrHr"
   },
   "outputs": [],
   "source": []
  },
  {
   "cell_type": "code",
   "execution_count": null,
   "metadata": {
    "id": "fQkGR6kIcrHr"
   },
   "outputs": [],
   "source": []
  },
  {
   "cell_type": "code",
   "execution_count": null,
   "metadata": {
    "id": "15Uc19CvcrHr"
   },
   "outputs": [],
   "source": []
  },
  {
   "cell_type": "code",
   "execution_count": null,
   "metadata": {
    "id": "-TrvVvdPcrHr"
   },
   "outputs": [],
   "source": []
  },
  {
   "cell_type": "code",
   "execution_count": null,
   "metadata": {
    "id": "llT0V_AkcrHs"
   },
   "outputs": [],
   "source": []
  }
 ],
 "metadata": {
  "colab": {
   "name": "MAKAAN.COM_WEB_SCRAPING_USING_SELENIUM_BEAUTIFUL_SOUP.ipynb",
   "provenance": []
  },
  "kernelspec": {
   "display_name": "Python 3",
   "language": "python",
   "name": "python3"
  },
  "language_info": {
   "codemirror_mode": {
    "name": "ipython",
    "version": 3
   },
   "file_extension": ".py",
   "mimetype": "text/x-python",
   "name": "python",
   "nbconvert_exporter": "python",
   "pygments_lexer": "ipython3",
   "version": "3.8.3"
  },
  "latex_envs": {
   "LaTeX_envs_menu_present": true,
   "autoclose": false,
   "autocomplete": true,
   "bibliofile": "biblio.bib",
   "cite_by": "apalike",
   "current_citInitial": 1,
   "eqLabelWithNumbers": true,
   "eqNumInitial": 1,
   "hotkeys": {
    "equation": "Ctrl-E",
    "itemize": "Ctrl-I"
   },
   "labels_anchors": false,
   "latex_user_defs": false,
   "report_style_numbering": false,
   "user_envs_cfg": false
  }
 },
 "nbformat": 4,
 "nbformat_minor": 1
}
